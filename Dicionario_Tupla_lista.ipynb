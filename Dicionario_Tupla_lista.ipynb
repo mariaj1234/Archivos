{
  "nbformat": 4,
  "nbformat_minor": 0,
  "metadata": {
    "colab": {
      "provenance": [],
      "authorship_tag": "ABX9TyMxdXclxWgW/diVXGrajVIU",
      "include_colab_link": true
    },
    "kernelspec": {
      "name": "python3",
      "display_name": "Python 3"
    },
    "language_info": {
      "name": "python"
    }
  },
  "cells": [
    {
      "cell_type": "markdown",
      "metadata": {
        "id": "view-in-github",
        "colab_type": "text"
      },
      "source": [
        "<a href=\"https://colab.research.google.com/github/mariaj1234/Archivos/blob/main/Dicionario_Tupla_lista.ipynb\" target=\"_parent\"><img src=\"https://colab.research.google.com/assets/colab-badge.svg\" alt=\"Open In Colab\"/></a>"
      ]
    },
    {
      "cell_type": "code",
      "execution_count": 7,
      "metadata": {
        "colab": {
          "base_uri": "https://localhost:8080/"
        },
        "id": "rdXSqitqzIUj",
        "outputId": "74af2a97-726d-4c71-e90c-b0dd497d2f62"
      },
      "outputs": [
        {
          "output_type": "stream",
          "name": "stdout",
          "text": [
            "6658\n"
          ]
        }
      ],
      "source": [
        "d = {5:12445, 6:6658, 7:2020, 4:2222}\n",
        "t = ('Hola', 3.14, 'pato', [4, 5, 6])\n",
        "l = ['pablo', 'corte', 'sopa', 'silla']\n",
        "l2 =[1, 2, 3, 4]\n",
        "c = set(l2)\n",
        "fc = frozenset(l2)\n",
        "\n",
        "x1 = d[6]\n",
        "\n",
        "print(x1)\n",
        "\n"
      ]
    }
  ]
}