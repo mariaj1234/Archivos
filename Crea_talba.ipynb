{
  "nbformat": 4,
  "nbformat_minor": 0,
  "metadata": {
    "colab": {
      "provenance": [],
      "authorship_tag": "ABX9TyObngTSUVAXlD58luIFiaXP",
      "include_colab_link": true
    },
    "kernelspec": {
      "name": "python3",
      "display_name": "Python 3"
    },
    "language_info": {
      "name": "python"
    },
    "accelerator": "TPU"
  },
  "cells": [
    {
      "cell_type": "markdown",
      "metadata": {
        "id": "view-in-github",
        "colab_type": "text"
      },
      "source": [
        "<a href=\"https://colab.research.google.com/github/mariaj1234/Archivos/blob/main/Crea_talba.ipynb\" target=\"_parent\"><img src=\"https://colab.research.google.com/assets/colab-badge.svg\" alt=\"Open In Colab\"/></a>"
      ]
    },
    {
      "cell_type": "code",
      "execution_count": 2,
      "metadata": {
        "colab": {
          "base_uri": "https://localhost:8080/"
        },
        "id": "CE_g54BFqIMU",
        "outputId": "85aee8b6-8eb5-42b1-8b6d-7946b6cb69cd"
      },
      "outputs": [
        {
          "output_type": "stream",
          "name": "stdout",
          "text": [
            "5\n"
          ]
        }
      ],
      "source": [
        "x = 5\n",
        "print (x)"
      ]
    },
    {
      "cell_type": "code",
      "source": [
        "def crear_tabla(turing, jobs, gates, stallman, trovals):\n",
        "  if not turing:\n",
        "    print(2)\n",
        "  else:\n",
        "    x = 2\n",
        "    print(False)\n",
        "    lista = ['pepe', 'juan']\n",
        "    fecha = '20/06/2023'\n",
        "    nombre = input('introduce un nombre:')\n",
        "    if nombre == 'Fernando':\n",
        "      return nombre\n",
        "    elif nombre == 'Penedo':\n",
        "      return 'apodo'\n",
        "    else:\n",
        "      print('si sé')\n",
        "      return 'Fin'\n",
        "\n"
      ],
      "metadata": {
        "id": "fXoICke4rEwU"
      },
      "execution_count": 3,
      "outputs": []
    },
    {
      "cell_type": "code",
      "source": [
        "import math\n",
        "\n",
        "x = crear_tabla(False, math.pi, 'omega', 'doritos', ('a', 'b', 'c'))\n",
        "print('x================', x)"
      ],
      "metadata": {
        "colab": {
          "base_uri": "https://localhost:8080/"
        },
        "id": "-ZFYXubuu4CW",
        "outputId": "26d8133c-0eea-4b63-9d79-4e50e45d0355"
      },
      "execution_count": 7,
      "outputs": [
        {
          "output_type": "stream",
          "name": "stdout",
          "text": [
            "2\n",
            "x================ None\n"
          ]
        }
      ]
    },
    {
      "cell_type": "markdown",
      "source": [],
      "metadata": {
        "id": "Vhe4cTWDuZTL"
      }
    }
  ]
}